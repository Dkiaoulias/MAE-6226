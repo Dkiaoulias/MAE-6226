{
 "cells": [
  {
   "cell_type": "code",
   "execution_count": 1,
   "metadata": {},
   "outputs": [],
   "source": [
    "import numpy \n",
    "import math\n",
    "from matplotlib import pyplot \n",
    "\n",
    "%matplotlib inline"
   ]
  },
  {
   "cell_type": "code",
   "execution_count": 2,
   "metadata": {},
   "outputs": [],
   "source": [
    "N = 50                                # Number of points in each direction\n",
    "x_start, x_end = -2.0, 2.0            # x-direction boundaries\n",
    "y_start, y_end = -1.0, 1.0            # y-direction boundaries\n",
    "x = numpy.linspace(x_start, x_end, N)    # computes a 1D-array for x\n",
    "y = numpy.linspace(y_start, y_end, N)    # computes a 1D-array for y\n",
    "X, Y = numpy.meshgrid(x, y)              # generates a mesh grid"
   ]
  },
  {
   "cell_type": "code",
   "execution_count": 14,
   "metadata": {},
   "outputs": [],
   "source": [
    "class Vortex:\n",
    "    def __init__(self, strength, x, y):\n",
    "        self.strength = strength\n",
    "        self.x, self.y = x, y\n",
    "    \n",
    "    def velocity(self, X, Y):\n",
    "        self.u = (self.strength / (2* numpy.pi) * (Y - self.y) / ((X - self.x)**2 + (Y - self.y)**2))\n",
    "        self.v = (-self.strength / (2 * numpy.pi) * (X - self.x) / ((X - self.x)**2 + (Y - self.y)**2))\n",
    "    \n",
    "    def stream_function(self, X, Y):\n",
    "        self.psi = (-self.strength / (4 * numpy.pi) * numpy.log((X - self.x)**2 + (Y - self.y)**2))"
   ]
  },
  {
   "cell_type": "code",
   "execution_count": 15,
   "metadata": {},
   "outputs": [
    {
     "ename": "AttributeError",
     "evalue": "'Vortex' object has no attribute 'psi'",
     "output_type": "error",
     "traceback": [
      "\u001b[0;31m---------------------------------------------------------------------------\u001b[0m",
      "\u001b[0;31mAttributeError\u001b[0m                            Traceback (most recent call last)",
      "\u001b[0;32m<ipython-input-15-0d9209122473>\u001b[0m in \u001b[0;36m<module>\u001b[0;34m\u001b[0m\n\u001b[1;32m     12\u001b[0m \u001b[0mu\u001b[0m \u001b[0;34m=\u001b[0m \u001b[0mvortex\u001b[0m\u001b[0;34m.\u001b[0m\u001b[0mu\u001b[0m \u001b[0;34m+\u001b[0m \u001b[0mvortex_image\u001b[0m\u001b[0;34m.\u001b[0m\u001b[0mu\u001b[0m\u001b[0;34m\u001b[0m\u001b[0m\n\u001b[1;32m     13\u001b[0m \u001b[0mv\u001b[0m \u001b[0;34m=\u001b[0m \u001b[0mvortex\u001b[0m\u001b[0;34m.\u001b[0m\u001b[0mv\u001b[0m \u001b[0;34m+\u001b[0m \u001b[0mvortex_image\u001b[0m\u001b[0;34m.\u001b[0m\u001b[0mv\u001b[0m\u001b[0;34m\u001b[0m\u001b[0m\n\u001b[0;32m---> 14\u001b[0;31m \u001b[0mpsi\u001b[0m \u001b[0;34m=\u001b[0m \u001b[0mvortex\u001b[0m\u001b[0;34m.\u001b[0m\u001b[0mpsi\u001b[0m \u001b[0;34m+\u001b[0m \u001b[0mvortex_image\u001b[0m\u001b[0;34m.\u001b[0m\u001b[0mpsi\u001b[0m\u001b[0;34m\u001b[0m\u001b[0m\n\u001b[0m\u001b[1;32m     15\u001b[0m \u001b[0;34m\u001b[0m\u001b[0m\n\u001b[1;32m     16\u001b[0m \u001b[0;31m# plot the streamlines\u001b[0m\u001b[0;34m\u001b[0m\u001b[0;34m\u001b[0m\u001b[0m\n",
      "\u001b[0;31mAttributeError\u001b[0m: 'Vortex' object has no attribute 'psi'"
     ]
    }
   ],
   "source": [
    "strength_vortex = 1.0\n",
    "\n",
    "x_vortex, y_vortex = 0.0, 0.5\n",
    "\n",
    "vortex = Vortex(strength_vortex, x_vortex, y_vortex)\n",
    "vortex.velocity(X,Y)\n",
    "vortex.stream_function(X,Y)\n",
    "\n",
    "vortex_image = Vortex(-strength_vortex, x_vortex, -y_vortex)\n",
    "vortex_image.velocity(X, Y)\n",
    "\n",
    "u = vortex.u + vortex_image.u\n",
    "v = vortex.v + vortex_image.v\n",
    "psi = vortex.psi + vortex_image.psi\n",
    "\n",
    "# plot the streamlines\n",
    "width = 10\n",
    "height = (y_end - y_start) / (x_end - x_start) * width\n",
    "pyplot.figure(figsize=(width, height))\n",
    "pyplot.xlabel('x', fontsize=16)\n",
    "pyplot.ylabel('y', fontsize=16)\n",
    "pyplot.xlim(x_start, x_end)\n",
    "pyplot.ylim(y_start, y_end)\n",
    "pyplot.streamplot(X, Y, u, v, density=2, linewidth=1, arrowsize=1, arrowstyle='->')\n",
    "pyplot.scatter(vortex.x, vortex.y, color='#CD2305', s=80, marker='o')\n",
    "pyplot.scatter(vortex_image.x, vortex_image.y, color='#CD2305', s=80, marker='D')\n",
    "pyplot.axhline(0., color='k', linestyle='--', linewidth=4);\n",
    "vortex_image.stream_function(X, Y)\n",
    "\n"
   ]
  },
  {
   "cell_type": "code",
   "execution_count": null,
   "metadata": {},
   "outputs": [],
   "source": []
  },
  {
   "cell_type": "code",
   "execution_count": null,
   "metadata": {},
   "outputs": [],
   "source": []
  }
 ],
 "metadata": {
  "kernelspec": {
   "display_name": "Python 3",
   "language": "python",
   "name": "python3"
  },
  "language_info": {
   "codemirror_mode": {
    "name": "ipython",
    "version": 3
   },
   "file_extension": ".py",
   "mimetype": "text/x-python",
   "name": "python",
   "nbconvert_exporter": "python",
   "pygments_lexer": "ipython3",
   "version": "3.6.0"
  }
 },
 "nbformat": 4,
 "nbformat_minor": 2
}
