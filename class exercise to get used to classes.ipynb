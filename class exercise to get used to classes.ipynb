{
 "cells": [
  {
   "cell_type": "code",
   "execution_count": 33,
   "metadata": {},
   "outputs": [],
   "source": [
    "class Source:\n",
    "    def __init__(self, sigma, xs, ys):\n",
    "        self.sigma = sigma\n",
    "        self.xs = xs\n",
    "        self.ys = ys\n",
    "    def streamfunction(self, x, y):\n",
    "        psi = self.sigma / (2* numpy.pi) * numpy.arctan2(y - self.ys, x-self.xs)\n",
    "    def velocity(self, x,y):\n",
    "        u = (self.sigma / (2 * math.pi) * (x - self.xs) / ((x - self.xs)**2 + (y - self.ys)**2))\n",
    "        \n",
    "        v = (self.sigma / (2*numpy.pi)*(y - self.ys) / ((x - self.xs)**2 + (y - self.ys)**2))\n",
    "        \n",
    "        return u, v\n",
    "        \n",
    "        return psi"
   ]
  },
  {
   "cell_type": "code",
   "execution_count": 11,
   "metadata": {},
   "outputs": [],
   "source": [
    "s1 = Source(5.0, 0.0, 1.0)"
   ]
  },
  {
   "cell_type": "code",
   "execution_count": 34,
   "metadata": {},
   "outputs": [],
   "source": [
    "import math\n",
    "source_image = (Source(5.0, 1.0, -1.0))\n",
    "source_image.velocity(x,y)\n",
    "source_image.streamfunction(x,y)\n",
    "\n"
   ]
  },
  {
   "cell_type": "code",
   "execution_count": 12,
   "metadata": {},
   "outputs": [
    {
     "data": {
      "text/plain": [
       "5.0"
      ]
     },
     "execution_count": 12,
     "metadata": {},
     "output_type": "execute_result"
    }
   ],
   "source": [
    "s1.sigma"
   ]
  },
  {
   "cell_type": "code",
   "execution_count": 18,
   "metadata": {},
   "outputs": [
    {
     "name": "stdout",
     "output_type": "stream",
     "text": [
      "0.659577123916655\n",
      "0.659577123916655\n"
     ]
    }
   ],
   "source": [
    "x,y = 1.1, 2.2 \n",
    "psi = s1.streamfunction(x,y)\n",
    "print(psi)\n",
    "\n",
    "psi = Source.streamfunction(s1, x, y)\n",
    "print(psi)"
   ]
  },
  {
   "cell_type": "code",
   "execution_count": 19,
   "metadata": {},
   "outputs": [
    {
     "name": "stdout",
     "output_type": "stream",
     "text": [
      "<class 'numpy.ndarray'>\n"
     ]
    }
   ],
   "source": [
    "print(type(a))"
   ]
  },
  {
   "cell_type": "code",
   "execution_count": 15,
   "metadata": {},
   "outputs": [],
   "source": [
    "import numpy"
   ]
  },
  {
   "cell_type": "code",
   "execution_count": 16,
   "metadata": {},
   "outputs": [
    {
     "data": {
      "text/plain": [
       "array([ 0.,  1.,  2.,  3.,  4.,  5.,  6.,  7.,  8.,  9., 10.])"
      ]
     },
     "execution_count": 16,
     "metadata": {},
     "output_type": "execute_result"
    }
   ],
   "source": [
    "a = numpy.linspace(0.0,10.0,num=11)\n",
    "a"
   ]
  },
  {
   "cell_type": "code",
   "execution_count": 17,
   "metadata": {},
   "outputs": [
    {
     "name": "stdout",
     "output_type": "stream",
     "text": [
      "<class 'numpy.ndarray'>\n"
     ]
    }
   ],
   "source": [
    "print(type(a))"
   ]
  },
  {
   "cell_type": "code",
   "execution_count": null,
   "metadata": {},
   "outputs": [],
   "source": []
  }
 ],
 "metadata": {
  "kernelspec": {
   "display_name": "Python 3",
   "language": "python",
   "name": "python3"
  },
  "language_info": {
   "codemirror_mode": {
    "name": "ipython",
    "version": 3
   },
   "file_extension": ".py",
   "mimetype": "text/x-python",
   "name": "python",
   "nbconvert_exporter": "python",
   "pygments_lexer": "ipython3",
   "version": "3.6.0"
  }
 },
 "nbformat": 4,
 "nbformat_minor": 2
}
